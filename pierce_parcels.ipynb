{
 "cells": [
  {
   "cell_type": "code",
   "execution_count": null,
   "id": "f79a733d",
   "metadata": {},
   "outputs": [],
   "source": [
    "import requests\n",
    "from tqdm import tqdm\n",
    "\n",
    "input_file = 'output.txt'\n",
    "output_file = 'final_parcel.txt'\n",
    "\n",
    "with open(input_file, 'r') as file:\n",
    "    lines = file.readlines()\n",
    "\n",
    "with open(output_file, 'a') as file:\n",
    "    for line in tqdm(lines, desc='Fetching parcels', unit='parcel'):\n",
    "        parcel_number = line.strip()\n",
    "        url = f'https://atip.piercecountywa.gov/api/pcAtipSummary?iParcelNumber={parcel_number}'\n",
    "\n",
    "        headers = {\n",
    "            'User-Agent': 'Mozilla/5.0 (Macintosh; Intel Mac OS X 10.15; rv:109.0) Gecko/20100101 Firefox/112.0',\n",
    "            'Accept': 'application/json, text/plain, */*',\n",
    "            'Accept-Language': 'en-US,en;q=0.5',\n",
    "            'Accept-Encoding': 'gzip, deflate, br',\n",
    "            'Cache-Control': 'max-age=0, must-revalidate',\n",
    "            'DNT': '1',\n",
    "            'Connection': 'keep-alive'\n",
    "        }\n",
    "\n",
    "        response = requests.get(url, headers=headers)\n",
    "        file.write(response.text + '\\n')\n"
   ]
  }
 ],
 "metadata": {
  "kernelspec": {
   "display_name": "Python 3 (ipykernel)",
   "language": "python",
   "name": "python3"
  },
  "language_info": {
   "codemirror_mode": {
    "name": "ipython",
    "version": 3
   },
   "file_extension": ".py",
   "mimetype": "text/x-python",
   "name": "python",
   "nbconvert_exporter": "python",
   "pygments_lexer": "ipython3",
   "version": "3.10.9"
  }
 },
 "nbformat": 4,
 "nbformat_minor": 5
}
